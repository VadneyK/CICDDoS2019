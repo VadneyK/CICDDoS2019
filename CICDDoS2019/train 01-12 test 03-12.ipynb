{
 "cells": [
  {
   "cell_type": "markdown",
   "id": "1e334368-72cb-4efb-a5b4-f8f0a4de6482",
   "metadata": {},
   "source": [
    "This notebook aims to use pycaret on the CICDDoS2019 dataset split according to the original release paper.\n",
    "the original release paper here uses:\n",
    "\n",
    "01-12 folder as the training data\n",
    "\n",
    "03-12 as the testing data\n",
    "\n",
    "and attempts to use all categories"
   ]
  },
  {
   "cell_type": "code",
   "execution_count": 1,
   "id": "f4079394",
   "metadata": {
    "papermill": {
     "duration": 2.716051,
     "end_time": "2024-04-01T22:12:18.547985",
     "exception": false,
     "start_time": "2024-04-01T22:12:15.831934",
     "status": "completed"
    },
    "tags": []
   },
   "outputs": [],
   "source": [
    "import dask.dataframe as dd\n",
    "import matplotlib.pyplot as plt \n",
    "import seaborn as sns \n",
    "import numpy as np # linear algebra\n",
    "import pandas as pd # data processing, CSV file I/O (e.g. pd.read_csv)\n",
    "import os\n",
    "%matplotlib inline "
   ]
  },
  {
   "cell_type": "markdown",
   "id": "de4f0f4f-b4e0-4fb4-94bd-738dedda82e0",
   "metadata": {},
   "source": [
    "Function to efficiently read a CSV file into a DataFrame"
   ]
  },
  {
   "cell_type": "code",
   "execution_count": 2,
   "id": "d3b47f20-cfdc-4ad3-9d92-82d7ab16e13d",
   "metadata": {},
   "outputs": [],
   "source": [
    "def read_csv_efficiently(file_path):\n",
    "   chunksize = 10000  # Adjust chunksize as needed based on file size and memory\n",
    "   df_chunks = dd.read_csv(file_path, chunksize=chunksize)\n",
    "   df = dd.concat(df_chunks, ignore_index=True)\n",
    "   return df"
   ]
  },
  {
   "cell_type": "markdown",
   "id": "3721d0ff-8090-4db7-86c2-1a012dfe9bec",
   "metadata": {},
   "source": [
    "strictly type and use dask to minimize RAM usage"
   ]
  },
  {
   "cell_type": "code",
   "execution_count": 3,
   "id": "80f9c705-cba5-4266-ba61-d8a74f8ad982",
   "metadata": {},
   "outputs": [],
   "source": [
    "def reduce_mem_usage(df, int_cast=False, obj_to_category=True, subset=None):\n",
    "    \"\"\"\n",
    "    Optimizes memory usage of a Dask DataFrame by adjusting dtypes.\n",
    "    \"\"\"\n",
    "    start_mem = df.memory_usage(deep=True).sum().compute() / 1024 ** 2\n",
    "    print('Memory usage of dataframe is {:.2f} MB'.format(start_mem))\n",
    "\n",
    "    cols = subset if subset is not None else df.columns\n",
    "\n",
    "    for col in cols:\n",
    "        col_type = df[col].dtype\n",
    "        if col_type != 'object' and col_type != 'string' and not isinstance(col_type, (pd.DatetimeTZDtype, pd.CategoricalDtype, np.dtypes.StrDType)):\n",
    "            try:  # Handle potential typing errors\n",
    "                c_min = df[col].min().compute()\n",
    "                c_max = df[col].max().compute()\n",
    "            except TypeError:\n",
    "                continue  # Skip columns with non-numeric values\n",
    "\n",
    "            # Check for integer conversion\n",
    "            treat_as_int = str(col_type)[:3] == 'int'\n",
    "            if int_cast and not treat_as_int:\n",
    "                treat_as_int = pd.api.types.is_integer_dtype(df[col])\n",
    "\n",
    "            if treat_as_int:\n",
    "                for np_type in [np.int8, np.int16, np.int32, np.int64, np.uint8, np.uint16, np.uint32, np.uint64]:\n",
    "                    if c_min > np.iinfo(np_type).min and c_max < np.iinfo(np_type).max:\n",
    "                        df[col] = df[col].astype(np_type)\n",
    "                        break\n",
    "            else:\n",
    "                for np_type in [np.float16, np.float32, np.float64]:\n",
    "                    # Extract numeric values before comparison\n",
    "                    if c_min > np.finfo(np_type).min and c_max < np.finfo(np_type).max:\n",
    "                        df[col] = df[col].astype(np_type)\n",
    "                        break\n",
    "\n",
    "        elif not isinstance(col_type, pd.DatetimeTZDtype) and obj_to_category:\n",
    "            df[col] = df[col].astype('category')\n",
    "\n",
    "    end_mem = df.memory_usage(deep=True).sum().compute() / 1024 ** 2\n",
    "    print('Memory usage after optimization is: {:.3f} MB'.format(end_mem))\n",
    "    print('Decreased by {:.1f}%'.format(100 * (start_mem - end_mem) / start_mem))\n",
    "\n",
    "    return df"
   ]
  },
  {
   "cell_type": "markdown",
   "id": "c50d4775-efbd-4cd9-b68e-7cd4d3b3da92",
   "metadata": {},
   "source": [
    "listing columns names"
   ]
  },
  {
   "cell_type": "code",
   "execution_count": 4,
   "id": "af47082d-8d8c-4865-a9cd-ef72dc7c8bcb",
   "metadata": {},
   "outputs": [],
   "source": [
    "columns = ['Unnamed: 0', 'Flow ID', ' Source IP', ' Source Port',\n",
    "       ' Destination IP', ' Destination Port', ' Protocol', ' Timestamp',\n",
    "       ' Flow Duration', ' Total Fwd Packets', ' Total Backward Packets',\n",
    "       'Total Length of Fwd Packets', ' Total Length of Bwd Packets',\n",
    "       ' Fwd Packet Length Max', ' Fwd Packet Length Min',\n",
    "       ' Fwd Packet Length Mean', ' Fwd Packet Length Std',\n",
    "       'Bwd Packet Length Max', ' Bwd Packet Length Min',\n",
    "       ' Bwd Packet Length Mean', ' Bwd Packet Length Std', 'Flow Bytes/s',\n",
    "       ' Flow Packets/s', ' Flow IAT Mean', ' Flow IAT Std', ' Flow IAT Max',\n",
    "       ' Flow IAT Min', 'Fwd IAT Total', ' Fwd IAT Mean', ' Fwd IAT Std',\n",
    "       ' Fwd IAT Max', ' Fwd IAT Min', 'Bwd IAT Total', ' Bwd IAT Mean',\n",
    "       ' Bwd IAT Std', ' Bwd IAT Max', ' Bwd IAT Min', 'Fwd PSH Flags',\n",
    "       ' Bwd PSH Flags', ' Fwd URG Flags', ' Bwd URG Flags',\n",
    "       ' Fwd Header Length', ' Bwd Header Length', 'Fwd Packets/s',\n",
    "       ' Bwd Packets/s', ' Min Packet Length', ' Max Packet Length',\n",
    "       ' Packet Length Mean', ' Packet Length Std', ' Packet Length Variance',\n",
    "       'FIN Flag Count', ' SYN Flag Count', ' RST Flag Count',\n",
    "       ' PSH Flag Count', ' ACK Flag Count', ' URG Flag Count',\n",
    "       ' CWE Flag Count', ' ECE Flag Count', ' Down/Up Ratio',\n",
    "       ' Average Packet Size', ' Avg Fwd Segment Size',\n",
    "       ' Avg Bwd Segment Size', ' Fwd Header Length.1', 'Fwd Avg Bytes/Bulk',\n",
    "       ' Fwd Avg Packets/Bulk', ' Fwd Avg Bulk Rate', ' Bwd Avg Bytes/Bulk',\n",
    "       ' Bwd Avg Packets/Bulk', 'Bwd Avg Bulk Rate', 'Subflow Fwd Packets',\n",
    "       ' Subflow Fwd Bytes', ' Subflow Bwd Packets', ' Subflow Bwd Bytes',\n",
    "       'Init_Win_bytes_forward', ' Init_Win_bytes_backward',\n",
    "       ' act_data_pkt_fwd', ' min_seg_size_forward', 'Active Mean',\n",
    "       ' Active Std', ' Active Max', ' Active Min', 'Idle Mean', ' Idle Std',\n",
    "       ' Idle Max', ' Idle Min', 'SimillarHTTP', ' Inbound', ' Label']"
   ]
  },
  {
   "cell_type": "markdown",
   "id": "388808ed-1ae4-404f-89e6-66d217acdbb5",
   "metadata": {},
   "source": [
    "function to combine the df"
   ]
  },
  {
   "cell_type": "code",
   "execution_count": 5,
   "id": "d12316f1-a1db-4167-b31c-fdf2af11ebad",
   "metadata": {},
   "outputs": [],
   "source": [
    "def combine_df(dir, categories):\n",
    "    df = dd.from_pandas(pd.DataFrame(columns=columns), npartitions=1)\n",
    "    for ddos_type in categories:\n",
    "        file_path = os.path.join(dir, ddos_type)\n",
    "        df = dd.concat([df, reduce_mem_usage(dd.read_csv(file_path, dtype=dtype))], ignore_index=True)\n",
    "        \n",
    "    # Check for potential issues and handle them as needed\n",
    "    if df.isnull().values.any():\n",
    "       print(\"Warning: DataFrame contains missing values. Consider handling them.\")\n",
    "    return df"
   ]
  },
  {
   "cell_type": "markdown",
   "id": "4acce67a-be52-4e26-bea1-baaa5bdd0629",
   "metadata": {},
   "source": [
    "pre-defining these removes some bugs"
   ]
  },
  {
   "cell_type": "code",
   "execution_count": 6,
   "id": "297191cb-622e-4073-ba71-3416fbda7574",
   "metadata": {},
   "outputs": [],
   "source": [
    "dtype={'SimillarHTTP': 'object', ' Label': 'object', 'Flow_ID' : 'object', ' Source_IP' : 'object', ' Destination IP': 'object', ' TimeStamp': 'object'}"
   ]
  },
  {
   "cell_type": "markdown",
   "id": "a936135d-f3fc-42d5-89b3-8af1c50fca1b",
   "metadata": {},
   "source": [
    "Read all of the training CSVs into one Data Frame"
   ]
  },
  {
   "cell_type": "code",
   "execution_count": null,
   "id": "2e355d4e-5ba7-49e9-ad83-6ba3b4d33c9e",
   "metadata": {},
   "outputs": [
    {
     "name": "stdout",
     "output_type": "stream",
     "text": [
      "Memory usage of dataframe is 1550.14 MB\n"
     ]
    }
   ],
   "source": [
    "# CSV file directory and file names for testing\n",
    "train_dir = 'C:\\\\Users\\ktv07101\\\\Desktop\\\\BHNI Anomaly Detection Related\\\\DDoS Training Data\\\\CIC_DDoS2019\\\\publicCSV\\\\CSV-03-11\\\\03-11'\n",
    "train_ddos_categories = ['LDAP.csv', 'MSSQL.csv', 'NetBIOS.csv', 'Portmap.csv', 'Syn.csv', 'UDP.csv', 'UDPLag.csv']\n",
    "test_df = combine_df(train_dir, train_ddos_categories)"
   ]
  },
  {
   "cell_type": "markdown",
   "id": "010cf0a4-f6df-4bdb-a795-5ab0b2c9cd2d",
   "metadata": {},
   "source": [
    "Read all of the testing CSVs into one Data Frame"
   ]
  },
  {
   "cell_type": "code",
   "execution_count": null,
   "id": "aa67f24f-4f4a-451c-963e-b19b789b3514",
   "metadata": {},
   "outputs": [],
   "source": [
    "# CSV file directory and file names for training\n",
    "test_dir = 'C:\\\\Users\\\\ktv07101\\\\Desktop\\\\BHNI Anomaly Detection Related\\\\DDoS Training Data\\\\CIC_DDoS2019\\\\publicCSV\\\\CSV-01-12\\\\01-12'\n",
    "test_ddos_categories = ['DrDoS_SSDP.csv', 'DrDoS_NTP.csv', 'TFTP.csv', 'UDPLag.csv', 'DrDoS_UDP.csv', 'Syn.csv', 'DrDoS_MSSQL.csv', 'DrDoS_SNMP.csv', 'DrDoS_DNS.csv', 'DrDoS_LDAP.csv']\n",
    "test_df = combine_df(test_dir, test_ddos_categories)"
   ]
  },
  {
   "cell_type": "markdown",
   "id": "17aa26dd-06d9-40aa-8a0c-8ca11e554e8b",
   "metadata": {},
   "source": [
    "verify there aren't clear NaN and infs"
   ]
  },
  {
   "cell_type": "code",
   "execution_count": null,
   "id": "c142a492",
   "metadata": {
    "papermill": {
     "duration": 0.028077,
     "end_time": "2024-04-02T01:32:46.064333",
     "exception": false,
     "start_time": "2024-04-02T01:32:46.036256",
     "status": "completed"
    },
    "tags": []
   },
   "outputs": [],
   "source": [
    "import re\n",
    "combined_df = combined_df.rename(columns = lambda x:re.sub('[^A-Za-z0-9_]+', '', x))"
   ]
  },
  {
   "cell_type": "code",
   "execution_count": null,
   "id": "0dabc47c",
   "metadata": {
    "papermill": {
     "duration": 55.238335,
     "end_time": "2024-04-02T01:33:41.315214",
     "exception": false,
     "start_time": "2024-04-02T01:32:46.076879",
     "status": "completed"
    },
    "tags": []
   },
   "outputs": [],
   "source": [
    "%%capture\n",
    "!pip install pycaret"
   ]
  },
  {
   "cell_type": "code",
   "execution_count": null,
   "id": "6e200fde",
   "metadata": {
    "papermill": {
     "duration": 745.162199,
     "end_time": "2024-04-02T01:46:06.489380",
     "exception": false,
     "start_time": "2024-04-02T01:33:41.327181",
     "status": "completed"
    },
    "tags": []
   },
   "outputs": [],
   "source": [
    "from pycaret.classification import *\n",
    "s = setup(combined_df, ignore_features=['Flow_Bytes_s', '_Flow_Packets_s'], target='_Label', feature_selection=True, n_features_to_select=5)"
   ]
  },
  {
   "cell_type": "code",
   "execution_count": null,
   "id": "4d79773a",
   "metadata": {
    "papermill": {
     "duration": null,
     "end_time": null,
     "exception": null,
     "start_time": null,
     "status": "completed"
    },
    "tags": []
   },
   "outputs": [],
   "source": [
    "best = compare_models(budget_time=420)"
   ]
  },
  {
   "cell_type": "code",
   "execution_count": null,
   "id": "f836c7e7",
   "metadata": {
    "papermill": {
     "duration": null,
     "end_time": null,
     "exception": null,
     "start_time": null,
     "status": "completed"
    },
    "tags": []
   },
   "outputs": [],
   "source": [
    "preds = predict_model(best)"
   ]
  },
  {
   "cell_type": "code",
   "execution_count": null,
   "id": "852c0257",
   "metadata": {
    "papermill": {
     "duration": null,
     "end_time": null,
     "exception": null,
     "start_time": null,
     "status": "completed"
    },
    "tags": []
   },
   "outputs": [],
   "source": [
    "plot_model(best, plot='confusion_matrix')"
   ]
  },
  {
   "cell_type": "code",
   "execution_count": null,
   "id": "c30788a1",
   "metadata": {
    "papermill": {
     "duration": null,
     "end_time": null,
     "exception": null,
     "start_time": null,
     "status": "completed"
    },
    "tags": []
   },
   "outputs": [],
   "source": [
    "plot_model(best, plot='auc')"
   ]
  },
  {
   "cell_type": "code",
   "execution_count": null,
   "id": "f316f6eb",
   "metadata": {
    "papermill": {
     "duration": null,
     "end_time": null,
     "exception": null,
     "start_time": null,
     "status": "completed"
    },
    "tags": []
   },
   "outputs": [],
   "source": [
    "plot_model(best, plot='class_report')"
   ]
  },
  {
   "cell_type": "code",
   "execution_count": null,
   "id": "6e0002bd",
   "metadata": {
    "papermill": {
     "duration": null,
     "end_time": null,
     "exception": null,
     "start_time": null,
     "status": "completed"
    },
    "tags": []
   },
   "outputs": [],
   "source": [
    "plot_model(best, plot='feature')"
   ]
  },
  {
   "cell_type": "code",
   "execution_count": null,
   "id": "eb0ca78f",
   "metadata": {
    "papermill": {
     "duration": null,
     "end_time": null,
     "exception": null,
     "start_time": null,
     "status": "completed"
    },
    "tags": []
   },
   "outputs": [],
   "source": [
    "result = predict_model(best, data=combined_df)"
   ]
  },
  {
   "cell_type": "code",
   "execution_count": null,
   "id": "42c10f91",
   "metadata": {
    "papermill": {
     "duration": null,
     "end_time": null,
     "exception": null,
     "start_time": null,
     "status": "completed"
    },
    "tags": []
   },
   "outputs": [],
   "source": [
    "result.head()"
   ]
  },
  {
   "cell_type": "code",
   "execution_count": null,
   "id": "ca6d089e",
   "metadata": {
    "papermill": {
     "duration": null,
     "end_time": null,
     "exception": null,
     "start_time": null,
     "status": "completed"
    },
    "tags": []
   },
   "outputs": [],
   "source": [
    "result.query('Type == prediction_label').shape"
   ]
  },
  {
   "cell_type": "code",
   "execution_count": null,
   "id": "4012de79",
   "metadata": {
    "papermill": {
     "duration": null,
     "end_time": null,
     "exception": null,
     "start_time": null,
     "status": "completed"
    },
    "tags": []
   },
   "outputs": [],
   "source": [
    "result.shape"
   ]
  },
  {
   "cell_type": "code",
   "execution_count": null,
   "id": "be49f2be",
   "metadata": {
    "papermill": {
     "duration": null,
     "end_time": null,
     "exception": null,
     "start_time": null,
     "status": "completed"
    },
    "tags": []
   },
   "outputs": [],
   "source": [
    "result = result[['TimeDateStamp', 'AddressOfEntryPoint', 'SizeOfInitializedData', 'SizeOfCode', 'SizeOfImage', 'Type', 'prediction_label', 'prediction_score']]"
   ]
  }
 ],
 "metadata": {
  "kaggle": {
   "accelerator": "none",
   "dataSources": [
    {
     "datasetId": 4658944,
     "sourceId": 7927234,
     "sourceType": "datasetVersion"
    }
   ],
   "isGpuEnabled": false,
   "isInternetEnabled": true,
   "language": "python",
   "sourceType": "notebook"
  },
  "kernelspec": {
   "display_name": "Python 3 (ipykernel)",
   "language": "python",
   "name": "python3"
  },
  "language_info": {
   "codemirror_mode": {
    "name": "ipython",
    "version": 3
   },
   "file_extension": ".py",
   "mimetype": "text/x-python",
   "name": "python",
   "nbconvert_exporter": "python",
   "pygments_lexer": "ipython3",
   "version": "3.11.7"
  },
  "papermill": {
   "default_parameters": {},
   "duration": 12835.242828,
   "end_time": "2024-04-02T01:46:06.589489",
   "environment_variables": {},
   "exception": null,
   "input_path": "__notebook__.ipynb",
   "output_path": "__notebook__.ipynb",
   "parameters": {},
   "start_time": "2024-04-01T22:12:11.346661",
   "version": "2.5.0"
  }
 },
 "nbformat": 4,
 "nbformat_minor": 5
}
