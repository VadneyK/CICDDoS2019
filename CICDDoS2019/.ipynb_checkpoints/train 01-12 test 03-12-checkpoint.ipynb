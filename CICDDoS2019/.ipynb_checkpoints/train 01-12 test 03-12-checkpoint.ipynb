{
 "cells": [
  {
   "cell_type": "code",
   "execution_count": 1,
   "id": "6461e254",
   "metadata": {
    "_cell_guid": "b1076dfc-b9ad-4769-8c92-a6c4dae69d19",
    "_uuid": "8f2839f25d086af736a60e9eeb907d3b93b6e0e5",
    "execution": {
     "iopub.execute_input": "2024-04-01T22:12:14.804681Z",
     "iopub.status.busy": "2024-04-01T22:12:14.804021Z",
     "iopub.status.idle": "2024-04-01T22:12:15.819497Z",
     "shell.execute_reply": "2024-04-01T22:12:15.818550Z"
    },
    "papermill": {
     "duration": 1.030001,
     "end_time": "2024-04-01T22:12:15.822296",
     "exception": false,
     "start_time": "2024-04-01T22:12:14.792295",
     "status": "completed"
    },
    "tags": []
   },
   "outputs": [
    {
     "name": "stdout",
     "output_type": "stream",
     "text": [
      "/kaggle/input/cicddos2019/CSV-03-11/03-11/NetBIOS.csv\n",
      "/kaggle/input/cicddos2019/CSV-03-11/03-11/UDPLag.csv\n",
      "/kaggle/input/cicddos2019/CSV-03-11/03-11/Syn.csv\n",
      "/kaggle/input/cicddos2019/CSV-03-11/03-11/MSSQL.csv\n",
      "/kaggle/input/cicddos2019/CSV-03-11/03-11/Portmap.csv\n",
      "/kaggle/input/cicddos2019/CSV-03-11/03-11/UDP.csv\n",
      "/kaggle/input/cicddos2019/CSV-03-11/03-11/LDAP.csv\n",
      "/kaggle/input/cicddos2019/CSV-01-12/01-12/DrDoS_NetBIOS.csv\n",
      "/kaggle/input/cicddos2019/CSV-01-12/01-12/DrDoS_SSDP.csv\n",
      "/kaggle/input/cicddos2019/CSV-01-12/01-12/DrDoS_NTP.csv\n",
      "/kaggle/input/cicddos2019/CSV-01-12/01-12/TFTP.csv\n",
      "/kaggle/input/cicddos2019/CSV-01-12/01-12/UDPLag.csv\n",
      "/kaggle/input/cicddos2019/CSV-01-12/01-12/DrDoS_UDP.csv\n",
      "/kaggle/input/cicddos2019/CSV-01-12/01-12/Syn.csv\n",
      "/kaggle/input/cicddos2019/CSV-01-12/01-12/DrDoS_MSSQL.csv\n",
      "/kaggle/input/cicddos2019/CSV-01-12/01-12/DrDoS_SNMP.csv\n",
      "/kaggle/input/cicddos2019/CSV-01-12/01-12/DrDoS_DNS.csv\n",
      "/kaggle/input/cicddos2019/CSV-01-12/01-12/DrDoS_LDAP.csv\n"
     ]
    }
   ],
   "source": [
    "# This Python 3 environment comes with many helpful analytics libraries installed\n",
    "# It is defined by the kaggle/python Docker image: https://github.com/kaggle/docker-python\n",
    "# For example, here's several helpful packages to load\n",
    "\n",
    "import numpy as np # linear algebra\n",
    "import pandas as pd # data processing, CSV file I/O (e.g. pd.read_csv)\n",
    "\n",
    "# Input data files are available in the read-only \"../input/\" directory\n",
    "# For example, running this (by clicking run or pressing Shift+Enter) will list all files under the input directory\n",
    "\n",
    "import os\n",
    "for dirname, _, filenames in os.walk('/kaggle/input'):\n",
    "    for filename in filenames:\n",
    "        print(os.path.join(dirname, filename))\n",
    "\n",
    "# You can write up to 20GB to the current directory (/kaggle/working/) that gets preserved as output when you create a version using \"Save & Run All\" \n",
    "# You can also write temporary files to /kaggle/temp/, but they won't be saved outside of the current session"
   ]
  },
  {
   "cell_type": "code",
   "execution_count": 2,
   "id": "f4079394",
   "metadata": {
    "execution": {
     "iopub.execute_input": "2024-04-01T22:12:15.843407Z",
     "iopub.status.busy": "2024-04-01T22:12:15.842787Z",
     "iopub.status.idle": "2024-04-01T22:12:18.545105Z",
     "shell.execute_reply": "2024-04-01T22:12:18.543854Z"
    },
    "papermill": {
     "duration": 2.716051,
     "end_time": "2024-04-01T22:12:18.547985",
     "exception": false,
     "start_time": "2024-04-01T22:12:15.831934",
     "status": "completed"
    },
    "tags": []
   },
   "outputs": [],
   "source": [
    "import dask.dataframe as dd\n",
    "import pandas as pd\n",
    "import numpy as np \n",
    "import matplotlib.pyplot as plt \n",
    "import seaborn as sns \n",
    "import gc\n",
    "%matplotlib inline "
   ]
  },
  {
   "cell_type": "code",
   "execution_count": 3,
   "id": "15347580",
   "metadata": {
    "execution": {
     "iopub.execute_input": "2024-04-01T22:12:18.569651Z",
     "iopub.status.busy": "2024-04-01T22:12:18.568973Z",
     "iopub.status.idle": "2024-04-02T01:24:47.488720Z",
     "shell.execute_reply": "2024-04-02T01:24:47.486921Z"
    },
    "papermill": {
     "duration": 11548.946577,
     "end_time": "2024-04-02T01:24:47.504169",
     "exception": false,
     "start_time": "2024-04-01T22:12:18.557592",
     "status": "completed"
    },
    "tags": []
   },
   "outputs": [
    {
     "name": "stdout",
     "output_type": "stream",
     "text": [
      "Memory usage of dataframe is 4279.77 MB\n",
      "Memory usage after optimization is: 1868.965 MB\n",
      "Decreased by 56.3%\n",
      "Memory usage of dataframe is 2191.02 MB\n",
      "Memory usage after optimization is: 983.407 MB\n",
      "Decreased by 55.1%\n",
      "Memory usage of dataframe is 6002.64 MB\n",
      "Memory usage after optimization is: 2687.456 MB\n",
      "Decreased by 55.2%\n",
      "Memory usage of dataframe is 3592.01 MB\n",
      "Memory usage after optimization is: 1581.005 MB\n",
      "Decreased by 56.0%\n",
      "Memory usage of dataframe is 199.25 MB\n",
      "Memory usage after optimization is: 85.043 MB\n",
      "Decreased by 57.3%\n",
      "Memory usage of dataframe is 4477.90 MB\n",
      "Memory usage after optimization is: 1953.979 MB\n",
      "Decreased by 56.4%\n",
      "Memory usage of dataframe is 3923.96 MB\n",
      "Memory usage after optimization is: 1774.488 MB\n",
      "Decreased by 54.8%\n",
      "Memory usage of dataframe is 751.70 MB\n",
      "Memory usage after optimization is: 327.650 MB\n",
      "Decreased by 56.4%\n",
      "Warning: DataFrame contains missing values. Consider handling them.\n"
     ]
    }
   ],
   "source": [
    "# Function to efficiently read a CSV file into a DataFrame\n",
    "def read_csv_efficiently(file_path):\n",
    "   chunksize = 10000  # Adjust chunksize as needed based on file size and memory\n",
    "   df_chunks = dd.read_csv(file_path, chunksize=chunksize)\n",
    "   df = dd.concat(df_chunks, ignore_index=True)\n",
    "   return df\n",
    "\n",
    "# List of CSV file paths\n",
    "file_paths = [\n",
    "   \"/kaggle/input/cicddos2019/CSV-03-11/03-11/LDAP.csv\",\n",
    "   \"/kaggle/input/cicddos2019/CSV-03-11/03-11/MSSQL.csv\",\n",
    "   \"/kaggle/input/cicddos2019/CSV-03-11/03-11/NetBIOS.csv\",\n",
    "   \"/kaggle/input/cicddos2019/CSV-03-11/03-11/Portmap.csv\",\n",
    "   \"/kaggle/input/cicddos2019/CSV-03-11/03-11/Syn.csv\",\n",
    "   \"/kaggle/input/cicddos2019/CSV-03-11/03-11/UDP.csv\",\n",
    "   \"/kaggle/input/cicddos2019/CSV-03-11/03-11/UDPLag.csv\",\n",
    "]\n",
    "\n",
    "def reduce_mem_usage(df, int_cast=False, obj_to_category=True, subset=None):\n",
    "    \"\"\"\n",
    "    Optimizes memory usage of a Dask DataFrame by adjusting dtypes.\n",
    "    \"\"\"\n",
    "    start_mem = df.memory_usage(deep=True).sum().compute() / 1024 ** 2\n",
    "    print('Memory usage of dataframe is {:.2f} MB'.format(start_mem))\n",
    "\n",
    "    cols = subset if subset is not None else df.columns\n",
    "\n",
    "    for col in cols:\n",
    "        col_type = df[col].dtype\n",
    "        if col_type != 'object' and col_type != 'string' and not isinstance(col_type, (pd.DatetimeTZDtype, pd.CategoricalDtype, np.dtypes.StrDType)):\n",
    "            try:  # Handle potential typing errors\n",
    "                c_min = df[col].min().compute()\n",
    "                c_max = df[col].max().compute()\n",
    "            except TypeError:\n",
    "                continue  # Skip columns with non-numeric values\n",
    "\n",
    "            # Check for integer conversion\n",
    "            treat_as_int = str(col_type)[:3] == 'int'\n",
    "            if int_cast and not treat_as_int:\n",
    "                treat_as_int = pd.api.types.is_integer_dtype(df[col])\n",
    "\n",
    "            if treat_as_int:\n",
    "                for np_type in [np.int8, np.int16, np.int32, np.int64, np.uint8, np.uint16, np.uint32, np.uint64]:\n",
    "                    if c_min > np.iinfo(np_type).min and c_max < np.iinfo(np_type).max:\n",
    "                        df[col] = df[col].astype(np_type)\n",
    "                        break\n",
    "            else:\n",
    "                for np_type in [np.float16, np.float32, np.float64]:\n",
    "                    # Extract numeric values before comparison\n",
    "                    if c_min > np.finfo(np_type).min and c_max < np.finfo(np_type).max:\n",
    "                        df[col] = df[col].astype(np_type)\n",
    "                        break\n",
    "\n",
    "        elif not isinstance(col_type, pd.DatetimeTZDtype) and obj_to_category:\n",
    "            df[col] = df[col].astype('category')\n",
    "\n",
    "    end_mem = df.memory_usage(deep=True).sum().compute() / 1024 ** 2\n",
    "    print('Memory usage after optimization is: {:.3f} MB'.format(end_mem))\n",
    "    print('Decreased by {:.1f}%'.format(100 * (start_mem - end_mem) / start_mem))\n",
    "\n",
    "    return df\n",
    "\n",
    "dtype={'SimillarHTTP': 'object', ' Label': 'object', 'Flow_ID' : 'object', ' Source_IP' : 'object', ' Destination IP': 'object', ' TimeStamp': 'object'}\n",
    "# Read and optimize memory for the first DataFrame\n",
    "combined_df = reduce_mem_usage(dd.read_csv(\"/kaggle/input/cicddos2019/CSV-01-12/01-12/DrDoS_NetBIOS.csv\", dtype=dtype))\n",
    "\n",
    "# Efficiently read and concatenate remaining DataFrames\n",
    "for file_path in file_paths:\n",
    "    combined_df = dd.concat([combined_df, reduce_mem_usage(dd.read_csv(file_path, dtype=dtype))], ignore_index=True)\n",
    "\n",
    "# Optional: Check for potential issues and handle them as needed\n",
    "if combined_df.isnull().values.any():\n",
    "   print(\"Warning: DataFrame contains missing values. Consider handling them.\")\n",
    "\n"
   ]
  },
  {
   "cell_type": "code",
   "execution_count": 4,
   "id": "311208a0",
   "metadata": {
    "execution": {
     "iopub.execute_input": "2024-04-02T01:24:47.531551Z",
     "iopub.status.busy": "2024-04-02T01:24:47.531098Z",
     "iopub.status.idle": "2024-04-02T01:32:46.005730Z",
     "shell.execute_reply": "2024-04-02T01:32:46.004173Z"
    },
    "papermill": {
     "duration": 478.508029,
     "end_time": "2024-04-02T01:32:46.023914",
     "exception": false,
     "start_time": "2024-04-02T01:24:47.515885",
     "status": "completed"
    },
    "tags": []
   },
   "outputs": [
    {
     "data": {
      "text/html": [
       "<div>\n",
       "<style scoped>\n",
       "    .dataframe tbody tr th:only-of-type {\n",
       "        vertical-align: middle;\n",
       "    }\n",
       "\n",
       "    .dataframe tbody tr th {\n",
       "        vertical-align: top;\n",
       "    }\n",
       "\n",
       "    .dataframe thead th {\n",
       "        text-align: right;\n",
       "    }\n",
       "</style>\n",
       "<table border=\"1\" class=\"dataframe\">\n",
       "  <thead>\n",
       "    <tr style=\"text-align: right;\">\n",
       "      <th></th>\n",
       "      <th>Unnamed: 0</th>\n",
       "      <th>Flow ID</th>\n",
       "      <th>Source IP</th>\n",
       "      <th>Source Port</th>\n",
       "      <th>Destination IP</th>\n",
       "      <th>Destination Port</th>\n",
       "      <th>Protocol</th>\n",
       "      <th>Timestamp</th>\n",
       "      <th>Flow Duration</th>\n",
       "      <th>Total Fwd Packets</th>\n",
       "      <th>...</th>\n",
       "      <th>Active Std</th>\n",
       "      <th>Active Max</th>\n",
       "      <th>Active Min</th>\n",
       "      <th>Idle Mean</th>\n",
       "      <th>Idle Std</th>\n",
       "      <th>Idle Max</th>\n",
       "      <th>Idle Min</th>\n",
       "      <th>SimillarHTTP</th>\n",
       "      <th>Inbound</th>\n",
       "      <th>Label</th>\n",
       "    </tr>\n",
       "  </thead>\n",
       "  <tbody>\n",
       "    <tr>\n",
       "      <th>0</th>\n",
       "      <td>256565</td>\n",
       "      <td>172.16.0.5-192.168.50.1-34012-2334-17</td>\n",
       "      <td>172.16.0.5</td>\n",
       "      <td>34012</td>\n",
       "      <td>192.168.50.1</td>\n",
       "      <td>2334</td>\n",
       "      <td>17</td>\n",
       "      <td>2018-12-01 11:47:08.463789</td>\n",
       "      <td>1</td>\n",
       "      <td>2</td>\n",
       "      <td>...</td>\n",
       "      <td>0.0</td>\n",
       "      <td>0.0</td>\n",
       "      <td>0.0</td>\n",
       "      <td>0.0</td>\n",
       "      <td>0.0</td>\n",
       "      <td>0.0</td>\n",
       "      <td>0.0</td>\n",
       "      <td>0</td>\n",
       "      <td>1</td>\n",
       "      <td>DrDoS_NetBIOS</td>\n",
       "    </tr>\n",
       "    <tr>\n",
       "      <th>1</th>\n",
       "      <td>252918</td>\n",
       "      <td>172.16.0.5-192.168.50.1-34013-50170-17</td>\n",
       "      <td>172.16.0.5</td>\n",
       "      <td>34013</td>\n",
       "      <td>192.168.50.1</td>\n",
       "      <td>50170</td>\n",
       "      <td>17</td>\n",
       "      <td>2018-12-01 11:47:08.464316</td>\n",
       "      <td>1</td>\n",
       "      <td>2</td>\n",
       "      <td>...</td>\n",
       "      <td>0.0</td>\n",
       "      <td>0.0</td>\n",
       "      <td>0.0</td>\n",
       "      <td>0.0</td>\n",
       "      <td>0.0</td>\n",
       "      <td>0.0</td>\n",
       "      <td>0.0</td>\n",
       "      <td>0</td>\n",
       "      <td>1</td>\n",
       "      <td>DrDoS_NetBIOS</td>\n",
       "    </tr>\n",
       "    <tr>\n",
       "      <th>2</th>\n",
       "      <td>174257</td>\n",
       "      <td>172.16.0.5-192.168.50.1-34014-61534-17</td>\n",
       "      <td>172.16.0.5</td>\n",
       "      <td>34014</td>\n",
       "      <td>192.168.50.1</td>\n",
       "      <td>61534</td>\n",
       "      <td>17</td>\n",
       "      <td>2018-12-01 11:47:08.464472</td>\n",
       "      <td>1</td>\n",
       "      <td>2</td>\n",
       "      <td>...</td>\n",
       "      <td>0.0</td>\n",
       "      <td>0.0</td>\n",
       "      <td>0.0</td>\n",
       "      <td>0.0</td>\n",
       "      <td>0.0</td>\n",
       "      <td>0.0</td>\n",
       "      <td>0.0</td>\n",
       "      <td>0</td>\n",
       "      <td>1</td>\n",
       "      <td>DrDoS_NetBIOS</td>\n",
       "    </tr>\n",
       "    <tr>\n",
       "      <th>3</th>\n",
       "      <td>185193</td>\n",
       "      <td>172.16.0.5-192.168.50.1-34015-8930-17</td>\n",
       "      <td>172.16.0.5</td>\n",
       "      <td>34015</td>\n",
       "      <td>192.168.50.1</td>\n",
       "      <td>8930</td>\n",
       "      <td>17</td>\n",
       "      <td>2018-12-01 11:47:08.464520</td>\n",
       "      <td>1</td>\n",
       "      <td>2</td>\n",
       "      <td>...</td>\n",
       "      <td>0.0</td>\n",
       "      <td>0.0</td>\n",
       "      <td>0.0</td>\n",
       "      <td>0.0</td>\n",
       "      <td>0.0</td>\n",
       "      <td>0.0</td>\n",
       "      <td>0.0</td>\n",
       "      <td>0</td>\n",
       "      <td>1</td>\n",
       "      <td>DrDoS_NetBIOS</td>\n",
       "    </tr>\n",
       "    <tr>\n",
       "      <th>4</th>\n",
       "      <td>198671</td>\n",
       "      <td>172.16.0.5-192.168.50.1-34016-33040-17</td>\n",
       "      <td>172.16.0.5</td>\n",
       "      <td>34016</td>\n",
       "      <td>192.168.50.1</td>\n",
       "      <td>33040</td>\n",
       "      <td>17</td>\n",
       "      <td>2018-12-01 11:47:08.464925</td>\n",
       "      <td>2</td>\n",
       "      <td>2</td>\n",
       "      <td>...</td>\n",
       "      <td>0.0</td>\n",
       "      <td>0.0</td>\n",
       "      <td>0.0</td>\n",
       "      <td>0.0</td>\n",
       "      <td>0.0</td>\n",
       "      <td>0.0</td>\n",
       "      <td>0.0</td>\n",
       "      <td>0</td>\n",
       "      <td>1</td>\n",
       "      <td>DrDoS_NetBIOS</td>\n",
       "    </tr>\n",
       "  </tbody>\n",
       "</table>\n",
       "<p>5 rows × 88 columns</p>\n",
       "</div>"
      ],
      "text/plain": [
       "   Unnamed: 0                                 Flow ID   Source IP  \\\n",
       "0      256565   172.16.0.5-192.168.50.1-34012-2334-17  172.16.0.5   \n",
       "1      252918  172.16.0.5-192.168.50.1-34013-50170-17  172.16.0.5   \n",
       "2      174257  172.16.0.5-192.168.50.1-34014-61534-17  172.16.0.5   \n",
       "3      185193   172.16.0.5-192.168.50.1-34015-8930-17  172.16.0.5   \n",
       "4      198671  172.16.0.5-192.168.50.1-34016-33040-17  172.16.0.5   \n",
       "\n",
       "    Source Port  Destination IP   Destination Port   Protocol  \\\n",
       "0         34012    192.168.50.1               2334         17   \n",
       "1         34013    192.168.50.1              50170         17   \n",
       "2         34014    192.168.50.1              61534         17   \n",
       "3         34015    192.168.50.1               8930         17   \n",
       "4         34016    192.168.50.1              33040         17   \n",
       "\n",
       "                    Timestamp   Flow Duration   Total Fwd Packets  ...  \\\n",
       "0  2018-12-01 11:47:08.463789               1                   2  ...   \n",
       "1  2018-12-01 11:47:08.464316               1                   2  ...   \n",
       "2  2018-12-01 11:47:08.464472               1                   2  ...   \n",
       "3  2018-12-01 11:47:08.464520               1                   2  ...   \n",
       "4  2018-12-01 11:47:08.464925               2                   2  ...   \n",
       "\n",
       "    Active Std   Active Max   Active Min  Idle Mean   Idle Std   Idle Max  \\\n",
       "0          0.0          0.0          0.0        0.0        0.0        0.0   \n",
       "1          0.0          0.0          0.0        0.0        0.0        0.0   \n",
       "2          0.0          0.0          0.0        0.0        0.0        0.0   \n",
       "3          0.0          0.0          0.0        0.0        0.0        0.0   \n",
       "4          0.0          0.0          0.0        0.0        0.0        0.0   \n",
       "\n",
       "    Idle Min  SimillarHTTP   Inbound          Label  \n",
       "0        0.0             0         1  DrDoS_NetBIOS  \n",
       "1        0.0             0         1  DrDoS_NetBIOS  \n",
       "2        0.0             0         1  DrDoS_NetBIOS  \n",
       "3        0.0             0         1  DrDoS_NetBIOS  \n",
       "4        0.0             0         1  DrDoS_NetBIOS  \n",
       "\n",
       "[5 rows x 88 columns]"
      ]
     },
     "execution_count": 4,
     "metadata": {},
     "output_type": "execute_result"
    }
   ],
   "source": [
    "combined_df.head()"
   ]
  },
  {
   "cell_type": "code",
   "execution_count": 5,
   "id": "c142a492",
   "metadata": {
    "execution": {
     "iopub.execute_input": "2024-04-02T01:32:46.051636Z",
     "iopub.status.busy": "2024-04-02T01:32:46.050787Z",
     "iopub.status.idle": "2024-04-02T01:32:46.061270Z",
     "shell.execute_reply": "2024-04-02T01:32:46.059634Z"
    },
    "papermill": {
     "duration": 0.028077,
     "end_time": "2024-04-02T01:32:46.064333",
     "exception": false,
     "start_time": "2024-04-02T01:32:46.036256",
     "status": "completed"
    },
    "tags": []
   },
   "outputs": [],
   "source": [
    "import re\n",
    "combined_df = combined_df.rename(columns = lambda x:re.sub('[^A-Za-z0-9_]+', '', x))"
   ]
  },
  {
   "cell_type": "code",
   "execution_count": 6,
   "id": "0dabc47c",
   "metadata": {
    "execution": {
     "iopub.execute_input": "2024-04-02T01:32:46.091148Z",
     "iopub.status.busy": "2024-04-02T01:32:46.090648Z",
     "iopub.status.idle": "2024-04-02T01:33:41.312087Z",
     "shell.execute_reply": "2024-04-02T01:33:41.310364Z"
    },
    "papermill": {
     "duration": 55.238335,
     "end_time": "2024-04-02T01:33:41.315214",
     "exception": false,
     "start_time": "2024-04-02T01:32:46.076879",
     "status": "completed"
    },
    "tags": []
   },
   "outputs": [],
   "source": [
    "%%capture\n",
    "!pip install pycaret"
   ]
  },
  {
   "cell_type": "code",
   "execution_count": 7,
   "id": "6e200fde",
   "metadata": {
    "execution": {
     "iopub.execute_input": "2024-04-02T01:33:41.343081Z",
     "iopub.status.busy": "2024-04-02T01:33:41.342152Z"
    },
    "papermill": {
     "duration": 745.162199,
     "end_time": "2024-04-02T01:46:06.489380",
     "exception": false,
     "start_time": "2024-04-02T01:33:41.327181",
     "status": "completed"
    },
    "tags": []
   },
   "outputs": [],
   "source": [
    "from pycaret.classification import *\n",
    "s = setup(combined_df, ignore_features=['Flow_Bytes_s', '_Flow_Packets_s'], target='_Label', feature_selection=True, n_features_to_select=5)"
   ]
  },
  {
   "cell_type": "code",
   "execution_count": null,
   "id": "4d79773a",
   "metadata": {
    "papermill": {
     "duration": null,
     "end_time": null,
     "exception": null,
     "start_time": null,
     "status": "completed"
    },
    "tags": []
   },
   "outputs": [],
   "source": [
    "best = compare_models(budget_time=420)"
   ]
  },
  {
   "cell_type": "code",
   "execution_count": null,
   "id": "f836c7e7",
   "metadata": {
    "papermill": {
     "duration": null,
     "end_time": null,
     "exception": null,
     "start_time": null,
     "status": "completed"
    },
    "tags": []
   },
   "outputs": [],
   "source": [
    "preds = predict_model(best)"
   ]
  },
  {
   "cell_type": "code",
   "execution_count": null,
   "id": "852c0257",
   "metadata": {
    "papermill": {
     "duration": null,
     "end_time": null,
     "exception": null,
     "start_time": null,
     "status": "completed"
    },
    "tags": []
   },
   "outputs": [],
   "source": [
    "plot_model(best, plot='confusion_matrix')"
   ]
  },
  {
   "cell_type": "code",
   "execution_count": null,
   "id": "c30788a1",
   "metadata": {
    "papermill": {
     "duration": null,
     "end_time": null,
     "exception": null,
     "start_time": null,
     "status": "completed"
    },
    "tags": []
   },
   "outputs": [],
   "source": [
    "plot_model(best, plot='auc')"
   ]
  },
  {
   "cell_type": "code",
   "execution_count": null,
   "id": "f316f6eb",
   "metadata": {
    "papermill": {
     "duration": null,
     "end_time": null,
     "exception": null,
     "start_time": null,
     "status": "completed"
    },
    "tags": []
   },
   "outputs": [],
   "source": [
    "plot_model(best, plot='class_report')"
   ]
  },
  {
   "cell_type": "code",
   "execution_count": null,
   "id": "6e0002bd",
   "metadata": {
    "papermill": {
     "duration": null,
     "end_time": null,
     "exception": null,
     "start_time": null,
     "status": "completed"
    },
    "tags": []
   },
   "outputs": [],
   "source": [
    "plot_model(best, plot='feature')"
   ]
  },
  {
   "cell_type": "code",
   "execution_count": null,
   "id": "eb0ca78f",
   "metadata": {
    "papermill": {
     "duration": null,
     "end_time": null,
     "exception": null,
     "start_time": null,
     "status": "completed"
    },
    "tags": []
   },
   "outputs": [],
   "source": [
    "result = predict_model(best, data=combined_df)"
   ]
  },
  {
   "cell_type": "code",
   "execution_count": null,
   "id": "42c10f91",
   "metadata": {
    "papermill": {
     "duration": null,
     "end_time": null,
     "exception": null,
     "start_time": null,
     "status": "completed"
    },
    "tags": []
   },
   "outputs": [],
   "source": [
    "result.head()"
   ]
  },
  {
   "cell_type": "code",
   "execution_count": null,
   "id": "ca6d089e",
   "metadata": {
    "papermill": {
     "duration": null,
     "end_time": null,
     "exception": null,
     "start_time": null,
     "status": "completed"
    },
    "tags": []
   },
   "outputs": [],
   "source": [
    "result.query('Type == prediction_label').shape"
   ]
  },
  {
   "cell_type": "code",
   "execution_count": null,
   "id": "4012de79",
   "metadata": {
    "papermill": {
     "duration": null,
     "end_time": null,
     "exception": null,
     "start_time": null,
     "status": "completed"
    },
    "tags": []
   },
   "outputs": [],
   "source": [
    "result.shape"
   ]
  },
  {
   "cell_type": "code",
   "execution_count": null,
   "id": "be49f2be",
   "metadata": {
    "papermill": {
     "duration": null,
     "end_time": null,
     "exception": null,
     "start_time": null,
     "status": "completed"
    },
    "tags": []
   },
   "outputs": [],
   "source": [
    "result = result[['TimeDateStamp', 'AddressOfEntryPoint', 'SizeOfInitializedData', 'SizeOfCode', 'SizeOfImage', 'Type', 'prediction_label', 'prediction_score']]"
   ]
  },
  {
   "cell_type": "code",
   "execution_count": null,
   "id": "018478d1",
   "metadata": {
    "papermill": {
     "duration": null,
     "end_time": null,
     "exception": null,
     "start_time": null,
     "status": "completed"
    },
    "tags": []
   },
   "outputs": [],
   "source": []
  },
  {
   "cell_type": "code",
   "execution_count": null,
   "id": "8c0ab268",
   "metadata": {
    "papermill": {
     "duration": null,
     "end_time": null,
     "exception": null,
     "start_time": null,
     "status": "completed"
    },
    "tags": []
   },
   "outputs": [],
   "source": []
  },
  {
   "cell_type": "code",
   "execution_count": null,
   "id": "bbd2faa1",
   "metadata": {
    "papermill": {
     "duration": null,
     "end_time": null,
     "exception": null,
     "start_time": null,
     "status": "completed"
    },
    "tags": []
   },
   "outputs": [],
   "source": []
  },
  {
   "cell_type": "code",
   "execution_count": null,
   "id": "25d0a51b",
   "metadata": {
    "papermill": {
     "duration": null,
     "end_time": null,
     "exception": null,
     "start_time": null,
     "status": "completed"
    },
    "tags": []
   },
   "outputs": [],
   "source": []
  },
  {
   "cell_type": "code",
   "execution_count": null,
   "id": "57037f85",
   "metadata": {
    "papermill": {
     "duration": null,
     "end_time": null,
     "exception": null,
     "start_time": null,
     "status": "completed"
    },
    "tags": []
   },
   "outputs": [],
   "source": []
  },
  {
   "cell_type": "code",
   "execution_count": null,
   "id": "049db4fc",
   "metadata": {
    "papermill": {
     "duration": null,
     "end_time": null,
     "exception": null,
     "start_time": null,
     "status": "completed"
    },
    "tags": []
   },
   "outputs": [],
   "source": []
  },
  {
   "cell_type": "code",
   "execution_count": null,
   "id": "09406fd9",
   "metadata": {
    "papermill": {
     "duration": null,
     "end_time": null,
     "exception": null,
     "start_time": null,
     "status": "completed"
    },
    "tags": []
   },
   "outputs": [],
   "source": []
  },
  {
   "cell_type": "code",
   "execution_count": null,
   "id": "d920b586",
   "metadata": {
    "papermill": {
     "duration": null,
     "end_time": null,
     "exception": null,
     "start_time": null,
     "status": "completed"
    },
    "tags": []
   },
   "outputs": [],
   "source": []
  },
  {
   "cell_type": "code",
   "execution_count": null,
   "id": "f9c5731b",
   "metadata": {
    "papermill": {
     "duration": null,
     "end_time": null,
     "exception": null,
     "start_time": null,
     "status": "completed"
    },
    "tags": []
   },
   "outputs": [],
   "source": []
  },
  {
   "cell_type": "code",
   "execution_count": null,
   "id": "479d50a5",
   "metadata": {
    "papermill": {
     "duration": null,
     "end_time": null,
     "exception": null,
     "start_time": null,
     "status": "completed"
    },
    "tags": []
   },
   "outputs": [],
   "source": []
  },
  {
   "cell_type": "code",
   "execution_count": null,
   "id": "5346b2b8",
   "metadata": {
    "papermill": {
     "duration": null,
     "end_time": null,
     "exception": null,
     "start_time": null,
     "status": "completed"
    },
    "tags": []
   },
   "outputs": [],
   "source": []
  },
  {
   "cell_type": "code",
   "execution_count": null,
   "id": "5bf0dfd1",
   "metadata": {
    "papermill": {
     "duration": null,
     "end_time": null,
     "exception": null,
     "start_time": null,
     "status": "completed"
    },
    "tags": []
   },
   "outputs": [],
   "source": []
  },
  {
   "cell_type": "code",
   "execution_count": null,
   "id": "643780a3",
   "metadata": {
    "papermill": {
     "duration": null,
     "end_time": null,
     "exception": null,
     "start_time": null,
     "status": "completed"
    },
    "tags": []
   },
   "outputs": [],
   "source": []
  },
  {
   "cell_type": "code",
   "execution_count": null,
   "id": "da587955",
   "metadata": {
    "papermill": {
     "duration": null,
     "end_time": null,
     "exception": null,
     "start_time": null,
     "status": "completed"
    },
    "tags": []
   },
   "outputs": [],
   "source": []
  },
  {
   "cell_type": "code",
   "execution_count": null,
   "id": "30ded801",
   "metadata": {
    "papermill": {
     "duration": null,
     "end_time": null,
     "exception": null,
     "start_time": null,
     "status": "completed"
    },
    "tags": []
   },
   "outputs": [],
   "source": []
  },
  {
   "cell_type": "code",
   "execution_count": null,
   "id": "db212a57",
   "metadata": {
    "papermill": {
     "duration": null,
     "end_time": null,
     "exception": null,
     "start_time": null,
     "status": "completed"
    },
    "tags": []
   },
   "outputs": [],
   "source": []
  },
  {
   "cell_type": "code",
   "execution_count": null,
   "id": "eefc6090",
   "metadata": {
    "papermill": {
     "duration": null,
     "end_time": null,
     "exception": null,
     "start_time": null,
     "status": "completed"
    },
    "tags": []
   },
   "outputs": [],
   "source": []
  },
  {
   "cell_type": "code",
   "execution_count": null,
   "id": "ddfe35f5",
   "metadata": {
    "papermill": {
     "duration": null,
     "end_time": null,
     "exception": null,
     "start_time": null,
     "status": "completed"
    },
    "tags": []
   },
   "outputs": [],
   "source": []
  }
 ],
 "metadata": {
  "kaggle": {
   "accelerator": "none",
   "dataSources": [
    {
     "datasetId": 4658944,
     "sourceId": 7927234,
     "sourceType": "datasetVersion"
    }
   ],
   "isGpuEnabled": false,
   "isInternetEnabled": true,
   "language": "python",
   "sourceType": "notebook"
  },
  "kernelspec": {
   "display_name": "Python 3",
   "language": "python",
   "name": "python3"
  },
  "language_info": {
   "codemirror_mode": {
    "name": "ipython",
    "version": 3
   },
   "file_extension": ".py",
   "mimetype": "text/x-python",
   "name": "python",
   "nbconvert_exporter": "python",
   "pygments_lexer": "ipython3",
   "version": "3.10.13"
  },
  "papermill": {
   "default_parameters": {},
   "duration": 12835.242828,
   "end_time": "2024-04-02T01:46:06.589489",
   "environment_variables": {},
   "exception": null,
   "input_path": "__notebook__.ipynb",
   "output_path": "__notebook__.ipynb",
   "parameters": {},
   "start_time": "2024-04-01T22:12:11.346661",
   "version": "2.5.0"
  }
 },
 "nbformat": 4,
 "nbformat_minor": 5
}
